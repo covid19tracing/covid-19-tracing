{
 "cells": [
  {
   "cell_type": "code",
   "execution_count": 190,
   "metadata": {},
   "outputs": [],
   "source": [
    "import pandas as pd\n",
    "import json\n",
    "import folium\n",
    "import geopandas"
   ]
  },
  {
   "cell_type": "code",
   "execution_count": 303,
   "metadata": {},
   "outputs": [],
   "source": [
    "coordinate_accuracy = 7;\n",
    "coordinate_cluster_accuracy = 3;\n",
    "jakob = 'wolfi4_2020-03-24t15_55_10.999z.json'\n",
    "wolfi = 'wolfi4_2020-03-25t19_29_26.969z.json'\n",
    "steffi = 'wolfi4_2020-03-24t16_32_43.640z.json'"
   ]
  },
  {
   "cell_type": "code",
   "execution_count": 386,
   "metadata": {},
   "outputs": [],
   "source": [
    "with open(\"/home/woolf/projects/covid-19-tracing/geo-heatmap/datafiles/{}\".format(jakob)) as f: \n",
    "    data = json.load(f)"
   ]
  },
  {
   "cell_type": "code",
   "execution_count": 387,
   "metadata": {},
   "outputs": [],
   "source": [
    "locations = pandas.DataFrame.from_dict(data['locations']).filter(items=['timestampMs', 'latitudeE7', 'longitudeE7', 'accuracy'])\n",
    "locations = locations.set_index(pandas.to_datetime(locations.timestampMs, unit='ms')) #TODO: Timezone!!!\n",
    "locations = locations.sort_index()\n",
    "locations['latitude'] = round(locations.latitudeE7 / 1e7, coordinate_accuracy)\n",
    "locations['longitude'] = round(locations.longitudeE7 / 1e7, coordinate_accuracy)\n",
    "locations['latitude_cluster'] = round(locations.latitudeE7 / 1e7, coordinate_cluster_accuracy)\n",
    "locations['longitude_cluster'] = round(locations.longitudeE7 / 1e7, coordinate_cluster_accuracy)\n",
    "\n",
    "# duration from one location to the next location\n",
    "locations['duration'] = locations['timestampMs'].astype(int).diff(periods=1)"
   ]
  },
  {
   "cell_type": "code",
   "execution_count": 388,
   "metadata": {},
   "outputs": [],
   "source": [
    "nightLocations = locations.between_time('23:00', '4:00')\n",
    "\n",
    "groupedNightLocations = nightLocations\\\n",
    "    .groupby(['latitude_cluster', 'longitude_cluster'])\\\n",
    "    .agg({'duration': ['sum','count']})\\\n",
    "    .sort_values(by=('duration','sum'),ascending=0)\n",
    "#topLocations = groupedNightLocations[groupedNightLocations > 2 ]\n",
    "groupedNightLocations['minutes'] = groupedNightLocations[('duration','sum')]/60/1000"
   ]
  },
  {
   "cell_type": "code",
   "execution_count": 389,
   "metadata": {},
   "outputs": [
    {
     "data": {
      "text/html": [
       "<div>\n",
       "<style scoped>\n",
       "    .dataframe tbody tr th:only-of-type {\n",
       "        vertical-align: middle;\n",
       "    }\n",
       "\n",
       "    .dataframe tbody tr th {\n",
       "        vertical-align: top;\n",
       "    }\n",
       "\n",
       "    .dataframe thead tr th {\n",
       "        text-align: left;\n",
       "    }\n",
       "\n",
       "    .dataframe thead tr:last-of-type th {\n",
       "        text-align: right;\n",
       "    }\n",
       "</style>\n",
       "<table border=\"1\" class=\"dataframe\">\n",
       "  <thead>\n",
       "    <tr>\n",
       "      <th></th>\n",
       "      <th></th>\n",
       "      <th colspan=\"2\" halign=\"left\">duration</th>\n",
       "      <th>minutes</th>\n",
       "    </tr>\n",
       "    <tr>\n",
       "      <th></th>\n",
       "      <th></th>\n",
       "      <th>sum</th>\n",
       "      <th>count</th>\n",
       "      <th></th>\n",
       "    </tr>\n",
       "    <tr>\n",
       "      <th>latitude_cluster</th>\n",
       "      <th>longitude_cluster</th>\n",
       "      <th></th>\n",
       "      <th></th>\n",
       "      <th></th>\n",
       "    </tr>\n",
       "  </thead>\n",
       "  <tbody>\n",
       "    <tr>\n",
       "      <th>47.257</th>\n",
       "      <th>11.372</th>\n",
       "      <td>248644360.0</td>\n",
       "      <td>153</td>\n",
       "      <td>4144.072667</td>\n",
       "    </tr>\n",
       "    <tr>\n",
       "      <th>47.404</th>\n",
       "      <th>10.889</th>\n",
       "      <td>33103986.0</td>\n",
       "      <td>19</td>\n",
       "      <td>551.733100</td>\n",
       "    </tr>\n",
       "    <tr>\n",
       "      <th>47.259</th>\n",
       "      <th>11.374</th>\n",
       "      <td>17837128.0</td>\n",
       "      <td>9</td>\n",
       "      <td>297.285467</td>\n",
       "    </tr>\n",
       "    <tr>\n",
       "      <th>47.258</th>\n",
       "      <th>11.375</th>\n",
       "      <td>2097803.0</td>\n",
       "      <td>1</td>\n",
       "      <td>34.963383</td>\n",
       "    </tr>\n",
       "  </tbody>\n",
       "</table>\n",
       "</div>"
      ],
      "text/plain": [
       "                                       duration            minutes\n",
       "                                            sum count             \n",
       "latitude_cluster longitude_cluster                                \n",
       "47.257           11.372             248644360.0   153  4144.072667\n",
       "47.404           10.889              33103986.0    19   551.733100\n",
       "47.259           11.374              17837128.0     9   297.285467\n",
       "47.258           11.375               2097803.0     1    34.963383"
      ]
     },
     "execution_count": 389,
     "metadata": {},
     "output_type": "execute_result"
    }
   ],
   "source": [
    "groupedNightLocations"
   ]
  },
  {
   "cell_type": "code",
   "execution_count": 390,
   "metadata": {
    "scrolled": false
   },
   "outputs": [
    {
     "data": {
      "text/plain": [
       "[<folium.vector_layers.CircleMarker at 0x7f070f1e05d0>,\n",
       " <folium.vector_layers.CircleMarker at 0x7f070f173950>,\n",
       " <folium.vector_layers.CircleMarker at 0x7f070f1e0150>,\n",
       " <folium.vector_layers.CircleMarker at 0x7f070f173cd0>]"
      ]
     },
     "execution_count": 390,
     "metadata": {},
     "output_type": "execute_result"
    }
   ],
   "source": [
    "startpoint = groupedNightLocations.index[0]\n",
    "map = folium.Map(startpoint, zoom_start=12, \n",
    "tiles='cartodbpositron', width=640, height=480)\n",
    "\n",
    "[folium.CircleMarker((index[0],index[1]),\n",
    "    radius=1,\n",
    "    color='#0080bb',\n",
    "    fill_color='#0080bb').add_to(map) for index, row in groupedNightLocations.iterrows()]"
   ]
  },
  {
   "cell_type": "code",
   "execution_count": 188,
   "metadata": {},
   "outputs": [],
   "source": [
    "gdf = geopandas.GeoDataFrame(\n",
    "    locations, geometry=geopandas.points_from_xy(locations.longitudeE7, locations.latitudeE7))"
   ]
  },
  {
   "cell_type": "code",
   "execution_count": 309,
   "metadata": {},
   "outputs": [
    {
     "data": {
      "text/plain": [
       "latitude_cluster  longitude_cluster\n",
       "47.257            11.372               153\n",
       "47.404            10.889                20\n",
       "47.259            11.374                 9\n",
       "Name: count, dtype: int64"
      ]
     },
     "execution_count": 309,
     "metadata": {},
     "output_type": "execute_result"
    }
   ],
   "source": [
    "topLocations"
   ]
  },
  {
   "cell_type": "code",
   "execution_count": 391,
   "metadata": {},
   "outputs": [
    {
     "data": {
      "text/html": [
       "<div style=\"width:100%;\"><div style=\"position:relative;width:100%;height:0;padding-bottom:60%;\"><iframe src=\"about:blank\" style=\"position:absolute;width:100%;height:100%;left:0;top:0;border:none !important;\" data-html=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 onload=\"this.contentDocument.open();this.contentDocument.write(atob(this.getAttribute('data-html')));this.contentDocument.close();\" allowfullscreen webkitallowfullscreen mozallowfullscreen></iframe></div></div>"
      ],
      "text/plain": [
       "<folium.folium.Map at 0x7f070f173b90>"
      ]
     },
     "execution_count": 391,
     "metadata": {},
     "output_type": "execute_result"
    }
   ],
   "source": [
    "map"
   ]
  },
  {
   "cell_type": "code",
   "execution_count": 344,
   "metadata": {},
   "outputs": [
    {
     "data": {
      "text/html": [
       "<div>\n",
       "<style scoped>\n",
       "    .dataframe tbody tr th:only-of-type {\n",
       "        vertical-align: middle;\n",
       "    }\n",
       "\n",
       "    .dataframe tbody tr th {\n",
       "        vertical-align: top;\n",
       "    }\n",
       "\n",
       "    .dataframe thead th {\n",
       "        text-align: right;\n",
       "    }\n",
       "</style>\n",
       "<table border=\"1\" class=\"dataframe\">\n",
       "  <thead>\n",
       "    <tr style=\"text-align: right;\">\n",
       "      <th></th>\n",
       "      <th>timestampMs</th>\n",
       "      <th>latitudeE7</th>\n",
       "      <th>longitudeE7</th>\n",
       "      <th>accuracy</th>\n",
       "      <th>latitude</th>\n",
       "      <th>longitude</th>\n",
       "      <th>latitude_cluster</th>\n",
       "      <th>longitude_cluster</th>\n",
       "    </tr>\n",
       "    <tr>\n",
       "      <th>timestampMs</th>\n",
       "      <th></th>\n",
       "      <th></th>\n",
       "      <th></th>\n",
       "      <th></th>\n",
       "      <th></th>\n",
       "      <th></th>\n",
       "      <th></th>\n",
       "      <th></th>\n",
       "    </tr>\n",
       "  </thead>\n",
       "  <tbody>\n",
       "    <tr>\n",
       "      <th>2020-02-14 23:31:41.438</th>\n",
       "      <td>1581723101438</td>\n",
       "      <td>474041331</td>\n",
       "      <td>108891216</td>\n",
       "      <td>16</td>\n",
       "      <td>47.404133</td>\n",
       "      <td>10.889122</td>\n",
       "      <td>47.404</td>\n",
       "      <td>10.889</td>\n",
       "    </tr>\n",
       "    <tr>\n",
       "      <th>2020-02-14 23:41:53.403</th>\n",
       "      <td>1581723713403</td>\n",
       "      <td>474041331</td>\n",
       "      <td>108891216</td>\n",
       "      <td>16</td>\n",
       "      <td>47.404133</td>\n",
       "      <td>10.889122</td>\n",
       "      <td>47.404</td>\n",
       "      <td>10.889</td>\n",
       "    </tr>\n",
       "    <tr>\n",
       "      <th>2020-02-14 23:56:52.777</th>\n",
       "      <td>1581724612777</td>\n",
       "      <td>474041331</td>\n",
       "      <td>108891216</td>\n",
       "      <td>16</td>\n",
       "      <td>47.404133</td>\n",
       "      <td>10.889122</td>\n",
       "      <td>47.404</td>\n",
       "      <td>10.889</td>\n",
       "    </tr>\n",
       "    <tr>\n",
       "      <th>2020-02-15 00:34:52.722</th>\n",
       "      <td>1581726892722</td>\n",
       "      <td>474041331</td>\n",
       "      <td>108891216</td>\n",
       "      <td>16</td>\n",
       "      <td>47.404133</td>\n",
       "      <td>10.889122</td>\n",
       "      <td>47.404</td>\n",
       "      <td>10.889</td>\n",
       "    </tr>\n",
       "    <tr>\n",
       "      <th>2020-02-15 01:12:13.264</th>\n",
       "      <td>1581729133264</td>\n",
       "      <td>474041331</td>\n",
       "      <td>108891216</td>\n",
       "      <td>16</td>\n",
       "      <td>47.404133</td>\n",
       "      <td>10.889122</td>\n",
       "      <td>47.404</td>\n",
       "      <td>10.889</td>\n",
       "    </tr>\n",
       "    <tr>\n",
       "      <th>...</th>\n",
       "      <td>...</td>\n",
       "      <td>...</td>\n",
       "      <td>...</td>\n",
       "      <td>...</td>\n",
       "      <td>...</td>\n",
       "      <td>...</td>\n",
       "      <td>...</td>\n",
       "      <td>...</td>\n",
       "    </tr>\n",
       "    <tr>\n",
       "      <th>2020-02-16 15:46:29.890</th>\n",
       "      <td>1581867989890</td>\n",
       "      <td>474040915</td>\n",
       "      <td>108890413</td>\n",
       "      <td>16</td>\n",
       "      <td>47.404091</td>\n",
       "      <td>10.889041</td>\n",
       "      <td>47.404</td>\n",
       "      <td>10.889</td>\n",
       "    </tr>\n",
       "    <tr>\n",
       "      <th>2020-02-16 15:48:40.172</th>\n",
       "      <td>1581868120172</td>\n",
       "      <td>474039594</td>\n",
       "      <td>108890898</td>\n",
       "      <td>28</td>\n",
       "      <td>47.403959</td>\n",
       "      <td>10.889090</td>\n",
       "      <td>47.404</td>\n",
       "      <td>10.889</td>\n",
       "    </tr>\n",
       "    <tr>\n",
       "      <th>2020-02-16 15:50:40.986</th>\n",
       "      <td>1581868240986</td>\n",
       "      <td>474041442</td>\n",
       "      <td>108887428</td>\n",
       "      <td>41</td>\n",
       "      <td>47.404144</td>\n",
       "      <td>10.888743</td>\n",
       "      <td>47.404</td>\n",
       "      <td>10.889</td>\n",
       "    </tr>\n",
       "    <tr>\n",
       "      <th>2020-02-16 15:52:43.282</th>\n",
       "      <td>1581868363282</td>\n",
       "      <td>474041442</td>\n",
       "      <td>108887428</td>\n",
       "      <td>41</td>\n",
       "      <td>47.404144</td>\n",
       "      <td>10.888743</td>\n",
       "      <td>47.404</td>\n",
       "      <td>10.889</td>\n",
       "    </tr>\n",
       "    <tr>\n",
       "      <th>2020-02-16 16:00:26.262</th>\n",
       "      <td>1581868826262</td>\n",
       "      <td>474040767</td>\n",
       "      <td>108891705</td>\n",
       "      <td>15</td>\n",
       "      <td>47.404077</td>\n",
       "      <td>10.889171</td>\n",
       "      <td>47.404</td>\n",
       "      <td>10.889</td>\n",
       "    </tr>\n",
       "  </tbody>\n",
       "</table>\n",
       "<p>199 rows × 8 columns</p>\n",
       "</div>"
      ],
      "text/plain": [
       "                           timestampMs  latitudeE7  longitudeE7  accuracy  \\\n",
       "timestampMs                                                                 \n",
       "2020-02-14 23:31:41.438  1581723101438   474041331    108891216        16   \n",
       "2020-02-14 23:41:53.403  1581723713403   474041331    108891216        16   \n",
       "2020-02-14 23:56:52.777  1581724612777   474041331    108891216        16   \n",
       "2020-02-15 00:34:52.722  1581726892722   474041331    108891216        16   \n",
       "2020-02-15 01:12:13.264  1581729133264   474041331    108891216        16   \n",
       "...                                ...         ...          ...       ...   \n",
       "2020-02-16 15:46:29.890  1581867989890   474040915    108890413        16   \n",
       "2020-02-16 15:48:40.172  1581868120172   474039594    108890898        28   \n",
       "2020-02-16 15:50:40.986  1581868240986   474041442    108887428        41   \n",
       "2020-02-16 15:52:43.282  1581868363282   474041442    108887428        41   \n",
       "2020-02-16 16:00:26.262  1581868826262   474040767    108891705        15   \n",
       "\n",
       "                          latitude  longitude  latitude_cluster  \\\n",
       "timestampMs                                                       \n",
       "2020-02-14 23:31:41.438  47.404133  10.889122            47.404   \n",
       "2020-02-14 23:41:53.403  47.404133  10.889122            47.404   \n",
       "2020-02-14 23:56:52.777  47.404133  10.889122            47.404   \n",
       "2020-02-15 00:34:52.722  47.404133  10.889122            47.404   \n",
       "2020-02-15 01:12:13.264  47.404133  10.889122            47.404   \n",
       "...                            ...        ...               ...   \n",
       "2020-02-16 15:46:29.890  47.404091  10.889041            47.404   \n",
       "2020-02-16 15:48:40.172  47.403959  10.889090            47.404   \n",
       "2020-02-16 15:50:40.986  47.404144  10.888743            47.404   \n",
       "2020-02-16 15:52:43.282  47.404144  10.888743            47.404   \n",
       "2020-02-16 16:00:26.262  47.404077  10.889171            47.404   \n",
       "\n",
       "                         longitude_cluster  \n",
       "timestampMs                                 \n",
       "2020-02-14 23:31:41.438             10.889  \n",
       "2020-02-14 23:41:53.403             10.889  \n",
       "2020-02-14 23:56:52.777             10.889  \n",
       "2020-02-15 00:34:52.722             10.889  \n",
       "2020-02-15 01:12:13.264             10.889  \n",
       "...                                    ...  \n",
       "2020-02-16 15:46:29.890             10.889  \n",
       "2020-02-16 15:48:40.172             10.889  \n",
       "2020-02-16 15:50:40.986             10.889  \n",
       "2020-02-16 15:52:43.282             10.889  \n",
       "2020-02-16 16:00:26.262             10.889  \n",
       "\n",
       "[199 rows x 8 columns]"
      ]
     },
     "execution_count": 344,
     "metadata": {},
     "output_type": "execute_result"
    }
   ],
   "source": [
    "locations[(locations['latitude_cluster'] == 47.404) & (locations['longitude_cluster'] == 10.889)]"
   ]
  }
 ],
 "metadata": {
  "kernelspec": {
   "display_name": "Python 3",
   "language": "python",
   "name": "python3"
  },
  "language_info": {
   "codemirror_mode": {
    "name": "ipython",
    "version": 3
   },
   "file_extension": ".py",
   "mimetype": "text/x-python",
   "name": "python",
   "nbconvert_exporter": "python",
   "pygments_lexer": "ipython3",
   "version": "3.7.6"
  }
 },
 "nbformat": 4,
 "nbformat_minor": 4
}
