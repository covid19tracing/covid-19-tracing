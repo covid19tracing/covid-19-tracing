{
 "cells": [
  {
   "cell_type": "code",
   "execution_count": 66,
   "metadata": {},
   "outputs": [],
   "source": [
    "import pandas as pd\n",
    "import json\n",
    "import folium\n",
    "from folium.plugins import HeatMap\n",
    "import os\n",
    "import locproc"
   ]
  },
  {
   "cell_type": "code",
   "execution_count": 67,
   "metadata": {},
   "outputs": [],
   "source": [
    "personfiles = {\n",
    "    'jakob': 'wolfi4_2020-03-24t15_55_10.999z.json',\n",
    "    'wolfi': 'wolfi4_2020-03-25t19_29_26.969z.json',\n",
    "    'steffi': 'wolfi4_2020-03-24t16_32_43.640z.json',\n",
    "    'tiago': 'tiago9_2020-03-25t20_36_05.925z.json',\n",
    "    'robert': 'wolfi4_2020-03-26t09_40_57.764z.json'\n",
    "}"
   ]
  },
  {
   "cell_type": "code",
   "execution_count": 68,
   "metadata": {},
   "outputs": [],
   "source": [
    "settings = {\n",
    "    'coordinate_accuracy': 7,\n",
    "    'coordinate_cluster_accuracy': 3,\n",
    "    'coordinate_output_accuracy': 5\n",
    "}\n",
    "datadir = os.path.abspath(\"./datafiles/\")"
   ]
  },
  {
   "cell_type": "code",
   "execution_count": 69,
   "metadata": {},
   "outputs": [],
   "source": [
    "\n",
    "with open(os.path.join(datadir,personfiles['robert'])) as f: \n",
    "    data = json.load(f)\n",
    "\n",
    "locations = locproc.prepareLocations(data, settings)\n",
    "topNightLocations = locproc.getTopNightLocations(locations)\n",
    "uniqueLocations = locproc.getFilteredUniqueLocations(locations,topNightLocations).index.to_series()\n",
    "\n",
    "locations2 = locproc.prepareLocations(data, settings)\n",
    "\n",
    "final2 = locations2\\\n",
    "    .groupby(['latitude', 'longitude'])\\\n",
    "    .agg({'duration': ['sum','count']})\\\n",
    "    .sort_values(by=('duration','count'),ascending=0)\n",
    "#mapPositiveClusters = pd.concat(positiveLocations).groupby(['latitude_output', 'longitude_output'])\\\n",
    "#    .count()\\\n",
    "#    .sort_values(ascending=False)\n",
    "#mapHealthyClusters = pd.concat(healthyLocations).groupby(['latitude_output', 'longitude_output'])\\\n",
    "#    .count()\\\n",
    "#    .sort_values(ascending=False)"
   ]
  },
  {
   "cell_type": "code",
   "execution_count": 70,
   "metadata": {},
   "outputs": [
    {
     "data": {
      "text/plain": [
       "latitude_output  longitude_output\n",
       "47.34252         11.70164            (47.34252, 11.70164)\n",
       "47.34243         11.70157            (47.34243, 11.70157)\n",
       "47.34254         11.70164            (47.34254, 11.70164)\n",
       "48.13934         11.58400              (48.13934, 11.584)\n",
       "48.13935         11.58401            (48.13935, 11.58401)\n",
       "                                             ...         \n",
       "48.14300         11.57791              (48.143, 11.57791)\n",
       "48.15663         11.55881            (48.15663, 11.55881)\n",
       "48.14313         11.57786            (48.14313, 11.57786)\n",
       "48.15691         11.55787            (48.15691, 11.55787)\n",
       "48.14164         11.57699            (48.14164, 11.57699)\n",
       "Length: 604, dtype: object"
      ]
     },
     "execution_count": 70,
     "metadata": {},
     "output_type": "execute_result"
    }
   ],
   "source": [
    "uniqueLocations"
   ]
  },
  {
   "cell_type": "code",
   "execution_count": 71,
   "metadata": {},
   "outputs": [
    {
     "data": {
      "text/plain": [
       "<folium.map.LayerControl at 0x7f49c359a8d0>"
      ]
     },
     "execution_count": 71,
     "metadata": {},
     "output_type": "execute_result"
    }
   ],
   "source": [
    "startpoint = (47,11)\n",
    "map = folium.Map(startpoint, zoom_start=4, \n",
    "tiles='cartodbpositron')\n",
    "\n",
    "heatmap = HeatMap([(index[0],index[1],1) for index, value in uniqueLocations.iteritems()],\n",
    "                  name='Ungenau', \n",
    "                  max_val=10,\n",
    "                  blur=2,\n",
    "                  radius=5,\n",
    "                  min_opacity=0.2,\n",
    "                   max_zoom=18)\n",
    "heatmap2 = HeatMap([(index[0],index[1],value[('duration','sum')]) for index, value in final2.iterrows()],\n",
    "                  name='Genau', \n",
    "                  max_val=max(final2[('duration','sum')]),\n",
    "                  blur=2,\n",
    "                  radius=5,\n",
    "                  min_opacity=0.2,\n",
    "                  max_zoom=18)\n",
    "map.add_child(heatmap)\n",
    "map.add_child(heatmap2)\n",
    "folium.LayerControl().add_to(map)"
   ]
  },
  {
   "cell_type": "code",
   "execution_count": 72,
   "metadata": {},
   "outputs": [],
   "source": [
    "map.save(\"heatmap.html\")"
   ]
  }
 ],
 "metadata": {
  "kernelspec": {
   "display_name": "Python 3",
   "language": "python",
   "name": "python3"
  },
  "language_info": {
   "codemirror_mode": {
    "name": "ipython",
    "version": 3
   },
   "file_extension": ".py",
   "mimetype": "text/x-python",
   "name": "python",
   "nbconvert_exporter": "python",
   "pygments_lexer": "ipython3",
   "version": "3.7.6"
  }
 },
 "nbformat": 4,
 "nbformat_minor": 4
}
