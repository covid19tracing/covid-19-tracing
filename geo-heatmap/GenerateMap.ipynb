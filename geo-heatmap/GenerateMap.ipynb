{
 "cells": [
  {
   "cell_type": "code",
   "execution_count": 1,
   "metadata": {},
   "outputs": [],
   "source": [
    "import pandas as pd\n",
    "import json\n",
    "import folium\n",
    "from folium.plugins import HeatMap\n",
    "import os\n",
    "import locproc"
   ]
  },
  {
   "cell_type": "code",
   "execution_count": 2,
   "metadata": {},
   "outputs": [],
   "source": [
    "settings = {\n",
    "    'coordinate_accuracy': 7,\n",
    "    'coordinate_cluster_accuracy': 3,\n",
    "    'coordinate_output_accuracy': 5,\n",
    "    'analyzeWindowDays': 30\n",
    "}\n",
    "datadir = os.path.abspath(\"./datafiles/\")\n",
    "files = [os.path.join(datadir,x) for x in os.listdir(datadir) if x.endswith(\".json\")]"
   ]
  },
  {
   "cell_type": "code",
   "execution_count": 3,
   "metadata": {},
   "outputs": [],
   "source": [
    "positiveLocations = []\n",
    "movementLocations = []\n",
    "\n",
    "for filename in files:\n",
    "    with open(filename) as f: \n",
    "        data = json.load(f)\n",
    "        \n",
    "    locations = locproc.prepareLocations(data, settings)\n",
    "    locations = locations[\\\n",
    "                    locations.index.to_series().between(\\\n",
    "                            pd.Timestamp.today()-pd.to_timedelta(settings['analyzeWindowDays'], unit='d'),\\\n",
    "                            pd.Timestamp.today()\\\n",
    "                )]\n",
    "\n",
    "    topNightLocations = locproc.getTopNightLocations(locations)\n",
    "    uniqueLocations = locproc.getFilteredUniqueLocations(locations,topNightLocations).index.to_series()\n",
    "\n",
    "    movementLocations.append(uniqueLocations)\n",
    "    if 'positive' in data and data['positive'] == True:\n",
    "        positiveLocations.append(uniqueLocations)\n",
    "            \n",
    "mapPositiveClusters = pd.concat(positiveLocations).groupby(['latitude_output', 'longitude_output'])\\\n",
    "    .count()\\\n",
    "    .sort_values(ascending=False)\n",
    "mapMovementClusters = pd.concat(movementLocations).groupby(['latitude_output', 'longitude_output'])\\\n",
    "    .count()\\\n",
    "    .sort_values(ascending=False)"
   ]
  },
  {
   "cell_type": "code",
   "execution_count": 4,
   "metadata": {},
   "outputs": [
    {
     "data": {
      "text/plain": [
       "<folium.map.LayerControl at 0x7f700b558810>"
      ]
     },
     "execution_count": 4,
     "metadata": {},
     "output_type": "execute_result"
    }
   ],
   "source": [
    "startpoint = (47,11)\n",
    "map = folium.Map(startpoint, zoom_start=4, tiles='OpenStreetMap', control_scale = True)\n",
    "\n",
    "positiveHeat = HeatMap([(index[0],index[1],value) for index, value in mapPositiveClusters.iteritems()],\n",
    "                  name='COVID-19 Hotspots'+pd.Timestamp.today().strftime(\" (%Y-%m-%d)\"), \n",
    "                  max_val=len([len(x) for x in positiveLocations if len(x) > 0]),\n",
    "                  blur=2,\n",
    "                  radius=5,\n",
    "                  min_opacity=0.2,\n",
    "                   max_zoom=18)\n",
    "movementHeat = HeatMap([(index[0],index[1],value) for index, value in mapMovementClusters.iteritems()],\n",
    "                  name='General Movement'+pd.Timestamp.today().strftime(\" (%Y-%m-%d)\"), \n",
    "                  max_val=len([len(x) for x in movementLocations if len(x) > 0]),\n",
    "                  blur=2,\n",
    "                  radius=5,\n",
    "                  min_opacity=0.2,\n",
    "                  max_zoom=18)\n",
    "map.add_child(positiveHeat)\n",
    "map.add_child(movementHeat)\n",
    "folium.LayerControl(position='topright', collapsed=False).add_to(map)"
   ]
  },
  {
   "cell_type": "code",
   "execution_count": 5,
   "metadata": {},
   "outputs": [],
   "source": [
    "map.save(\"heatmap.html\")"
   ]
  }
 ],
 "metadata": {
  "kernelspec": {
   "display_name": "Python 3",
   "language": "python",
   "name": "python3"
  },
  "language_info": {
   "codemirror_mode": {
    "name": "ipython",
    "version": 3
   },
   "file_extension": ".py",
   "mimetype": "text/x-python",
   "name": "python",
   "nbconvert_exporter": "python",
   "pygments_lexer": "ipython3",
   "version": "3.7.6"
  }
 },
 "nbformat": 4,
 "nbformat_minor": 4
}
