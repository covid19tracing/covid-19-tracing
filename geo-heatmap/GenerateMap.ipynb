{
 "cells": [
  {
   "cell_type": "code",
   "execution_count": 10,
   "metadata": {},
   "outputs": [],
   "source": [
    "import pandas as pd\n",
    "import json\n",
    "import folium\n",
    "from folium.plugins import HeatMap\n",
    "import os\n",
    "import locproc"
   ]
  },
  {
   "cell_type": "code",
   "execution_count": 12,
   "metadata": {},
   "outputs": [],
   "source": [
    "settings = {\n",
    "    'coordinate_accuracy': 7,\n",
    "    'coordinate_cluster_accuracy': 3,\n",
    "    'coordinate_output_accuracy': 5\n",
    "}\n",
    "datadir = os.path.abspath(\"./datafiles/\")\n",
    "files = [os.path.join(datadir,x) for x in os.listdir(datadir) if x.endswith(\".json\")]"
   ]
  },
  {
   "cell_type": "code",
   "execution_count": 13,
   "metadata": {},
   "outputs": [],
   "source": [
    "positiveLocations = []\n",
    "healthyLocations = []\n",
    "\n",
    "for filename in files:\n",
    "    with open(filename) as f: \n",
    "        data = json.load(f)\n",
    "        \n",
    "        locations = locproc.prepareLocations(data, settings)\n",
    "        topNightLocations = locproc.getTopNightLocations(locations)\n",
    "        uniqueLocations = locproc.getFilteredUniqueLocations(locations,topNightLocations).index.to_series()\n",
    "        \n",
    "        if 'positive' in data and data['positive'] == True:\n",
    "            positiveLocations.append(uniqueLocations)\n",
    "        else:\n",
    "            healthyLocations.append(uniqueLocations)\n",
    "            \n",
    "\n",
    "mapPositiveClusters = pd.concat(positiveLocations).groupby(['latitude_output', 'longitude_output'])\\\n",
    "    .count()\\\n",
    "    .sort_values(ascending=False)\n",
    "mapHealthyClusters = pd.concat(healthyLocations).groupby(['latitude_output', 'longitude_output'])\\\n",
    "    .count()\\\n",
    "    .sort_values(ascending=False)"
   ]
  },
  {
   "cell_type": "code",
   "execution_count": 14,
   "metadata": {},
   "outputs": [
    {
     "data": {
      "text/plain": [
       "<folium.map.LayerControl at 0x7feb207ffe10>"
      ]
     },
     "execution_count": 14,
     "metadata": {},
     "output_type": "execute_result"
    }
   ],
   "source": [
    "startpoint = (47,11)\n",
    "map = folium.Map(startpoint, zoom_start=4, \n",
    "tiles='cartodbpositron')\n",
    "\n",
    "map_data = [(index[0],index[1],value) for index, value in mapPositiveClusters.iteritems()]\n",
    "\n",
    "heatmap = HeatMap([(index[0],index[1],value) for index, value in mapPositiveClusters.iteritems()],\n",
    "                  name='COVID-19 Hotspots', \n",
    "                  max_val=len(files),\n",
    "                  blur=2,\n",
    "                  radius=5,\n",
    "                  min_opacity=0.2,\n",
    "                   max_zoom=5)\n",
    "heatmap2 = HeatMap([(index[0],index[1],value) for index, value in mapHealthyClusters.iteritems()],\n",
    "                  name='General Movement', \n",
    "                  max_val=len(files),\n",
    "                  blur=2,\n",
    "                  radius=5,\n",
    "                  min_opacity=0.2,\n",
    "                  max_zoom=5)\n",
    "map.add_child(heatmap)\n",
    "map.add_child(heatmap2)\n",
    "folium.LayerControl().add_to(map)"
   ]
  },
  {
   "cell_type": "code",
   "execution_count": 15,
   "metadata": {},
   "outputs": [],
   "source": [
    "map.save(\"heatmap.html\")"
   ]
  }
 ],
 "metadata": {
  "kernelspec": {
   "display_name": "Python 3",
   "language": "python",
   "name": "python3"
  },
  "language_info": {
   "codemirror_mode": {
    "name": "ipython",
    "version": 3
   },
   "file_extension": ".py",
   "mimetype": "text/x-python",
   "name": "python",
   "nbconvert_exporter": "python",
   "pygments_lexer": "ipython3",
   "version": "3.7.6"
  }
 },
 "nbformat": 4,
 "nbformat_minor": 4
}
